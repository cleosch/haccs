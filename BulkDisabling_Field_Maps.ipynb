{
 "cells": [
  {
   "cell_type": "code",
   "execution_count": 2,
   "metadata": {},
   "outputs": [],
   "source": [
    "from arcgis.gis import GIS\n",
    "from arcgis.mapping import WebMap\n",
    "gis = GIS(\"https://arcgis.com\",\"username here\", verify_cert=False) "
   ]
  },
  {
   "cell_type": "code",
   "execution_count": null,
   "metadata": {},
   "outputs": [],
   "source": [
    "my_content = gis.content.search(query='owner:'+ gis.users.me.username, \n",
    "                                item_type=\"Web Map\", max_items=1000)\n",
    "\n",
    "counter = 0\n",
    "total_maps = 0\n",
    "\n",
    "for map in my_content:\n",
    "    total_maps += 1\n",
    "    print(map.typeKeywords)\n",
    "    print(map.itemid)\n",
    "    current_keywords = set(map.typeKeywords)\n",
    "    if \"CollectorDisabled\" not in current_keywords:\n",
    "        counter += 1\n",
    "        current_keywords.add(\"CollectorDisabled\")\n",
    "        print(\"field maps currently enabled\")\n",
    "        map.update(item_properties={\"typeKeywords\": list(current_keywords)})\n",
    "\n",
    "print(counter)\n",
    "print(total_maps)"
   ]
  }
 ],
 "metadata": {
  "kernelspec": {
   "display_name": "Python 3.9.11 64-bit",
   "language": "python",
   "name": "python3"
  },
  "language_info": {
   "codemirror_mode": {
    "name": "ipython",
    "version": 3
   },
   "file_extension": ".py",
   "mimetype": "text/x-python",
   "name": "python",
   "nbconvert_exporter": "python",
   "pygments_lexer": "ipython3",
   "version": "3.9.11"
  },
  "orig_nbformat": 4,
  "vscode": {
   "interpreter": {
    "hash": "ce21b655b4d6c9e397d5ad93d5666c623f49909f6d0cc2f72076dafcf1b3ecfb"
   }
  }
 },
 "nbformat": 4,
 "nbformat_minor": 2
}
